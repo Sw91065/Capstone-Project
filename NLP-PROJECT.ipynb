{
 "cells": [
  {
   "cell_type": "code",
   "execution_count": null,
   "id": "3e8a1a67",
   "metadata": {},
   "outputs": [],
   "source": [
    "!pip install bs4"
   ]
  },
  {
   "cell_type": "code",
   "execution_count": null,
   "id": "0545b2a2",
   "metadata": {},
   "outputs": [],
   "source": [
    "!pip install spacy"
   ]
  },
  {
   "cell_type": "code",
   "execution_count": null,
   "id": "a2b5e499",
   "metadata": {},
   "outputs": [],
   "source": [
    "import pandas as pd\n",
    "from sklearn.neighbors import KNeighborsClassifier\n",
    "from sklearn.feature_extraction.text import CountVectorizer\n",
    "import requests\n",
    "from bs4 import BeautifulSoup\n",
    "import pandas as pd\n",
    "import numpy as np\n",
    "import matplotlib.pyplot as plt\n",
    "import seaborn as sns\n",
    "import os\n",
    "import spacy\n",
    "import nltk\n",
    "from nltk.tokenize.toktok import ToktokTokenizer\n",
    "import re\n",
    "import unicodedata\n",
    "\n",
    "%matplotlib inline"
   ]
  },
  {
   "cell_type": "code",
   "execution_count": null,
   "id": "2cc3400e",
   "metadata": {},
   "outputs": [],
   "source": [
    "# Load Dataset\n",
    "df=pd.read_csv('blogtext.csv')"
   ]
  },
  {
   "cell_type": "code",
   "execution_count": null,
   "id": "f36166e2",
   "metadata": {},
   "outputs": [],
   "source": [
    "# Drop column\n",
    "df.drop(columns=['id'],inplace=True)"
   ]
  },
  {
   "cell_type": "code",
   "execution_count": null,
   "id": "eabcc6ea",
   "metadata": {
    "scrolled": true
   },
   "outputs": [],
   "source": [
    "# Check certain parameters\n",
    "df.isnull().sum()"
   ]
  },
  {
   "cell_type": "code",
   "execution_count": null,
   "id": "82a71089",
   "metadata": {
    "scrolled": true
   },
   "outputs": [],
   "source": [
    "df.head()"
   ]
  },
  {
   "cell_type": "code",
   "execution_count": null,
   "id": "469efed2",
   "metadata": {},
   "outputs": [],
   "source": [
    "# Multi labels\n",
    "df['labels']=df['gender']+','+df['topic']+','+df['sign']+','+df['age'].astype('str')"
   ]
  },
  {
   "cell_type": "code",
   "execution_count": null,
   "id": "63ca6cd5",
   "metadata": {},
   "outputs": [],
   "source": [
    "# Special Characters\n",
    "list1=[]\n",
    "for i in df['text']:\n",
    "    text = i\n",
    "    new_text = re.sub(r\"[^a-zA-Z0-9 ]\", \"\", text)\n",
    "    list1.append(new_text)"
   ]
  },
  {
   "cell_type": "code",
   "execution_count": null,
   "id": "c999481b",
   "metadata": {
    "scrolled": true
   },
   "outputs": [],
   "source": [
    "# Dropping\n",
    "df.drop(columns=['gender','age','topic','sign','date'],inplace=True)"
   ]
  },
  {
   "cell_type": "code",
   "execution_count": null,
   "id": "6f8f1e77",
   "metadata": {},
   "outputs": [],
   "source": [
    "df['TEXT']=list1"
   ]
  },
  {
   "cell_type": "code",
   "execution_count": null,
   "id": "66b60598",
   "metadata": {},
   "outputs": [],
   "source": [
    "df.drop(columns=['text'],inplace=True)"
   ]
  },
  {
   "cell_type": "code",
   "execution_count": null,
   "id": "5c782130",
   "metadata": {
    "scrolled": false
   },
   "outputs": [],
   "source": [
    "# New dataframe\n",
    "df['labels']=df['labels'].astype('str')"
   ]
  },
  {
   "cell_type": "code",
   "execution_count": null,
   "id": "8644b85f",
   "metadata": {},
   "outputs": [],
   "source": [
    "import ast"
   ]
  },
  {
   "cell_type": "code",
   "execution_count": null,
   "id": "c4ff7655",
   "metadata": {},
   "outputs": [],
   "source": [
    "df['labels'].iloc[0]"
   ]
  },
  {
   "cell_type": "code",
   "execution_count": null,
   "id": "995ce819",
   "metadata": {},
   "outputs": [],
   "source": [
    "# Model Building\n",
    "X=df['TEXT'].head(80000)\n",
    "y=df['labels'].head(80000)"
   ]
  },
  {
   "cell_type": "code",
   "execution_count": null,
   "id": "90dc335d",
   "metadata": {},
   "outputs": [],
   "source": [
    "from sklearn.model_selection import train_test_split\n",
    "x_train,x_test,y_train,y_test=train_test_split(X,y,test_size=0.3,random_state=10)\n",
    "print(x_train.shape)\n",
    "print(x_test.shape)\n",
    "print(y_train.shape)\n",
    "print(y_test.shape)"
   ]
  },
  {
   "cell_type": "code",
   "execution_count": null,
   "id": "61a9fa62",
   "metadata": {
    "scrolled": true
   },
   "outputs": [],
   "source": [
    "# creat vocabulary and create document-term matrix\n",
    "countvec=CountVectorizer(stop_words='english',ngram_range=(1, 2),max_df=0.75,min_df=2)\n",
    "countvec.fit(x_train,y_train)"
   ]
  },
  {
   "cell_type": "code",
   "execution_count": null,
   "id": "e41766fc",
   "metadata": {},
   "outputs": [],
   "source": [
    "# Transformation\n",
    "x_train_dtm=countvec.transform(x_train)\n",
    "x_test_dtm=countvec.transform(x_test)"
   ]
  },
  {
   "cell_type": "code",
   "execution_count": null,
   "id": "e1875bac",
   "metadata": {
    "scrolled": true
   },
   "outputs": [],
   "source": [
    "# Dataframe cant create.\n",
    "pd.DataFrame(data=x_train_dtm.toarray(),columns=countvec.get_feature_names())"
   ]
  },
  {
   "cell_type": "code",
   "execution_count": null,
   "id": "ccd0d748",
   "metadata": {},
   "outputs": [],
   "source": [
    "# Transform Label \n",
    "from sklearn.preprocessing import MultiLabelBinarizer\n",
    "ml=MultiLabelBinarizer()"
   ]
  },
  {
   "cell_type": "code",
   "execution_count": null,
   "id": "1caf3d9d",
   "metadata": {},
   "outputs": [],
   "source": [
    "y_train.shape"
   ]
  },
  {
   "cell_type": "code",
   "execution_count": null,
   "id": "ce79a11c",
   "metadata": {
    "scrolled": false
   },
   "outputs": [],
   "source": [
    "#Encoding the label\n",
    "\n",
    "ff=ml.fit_transform(y_train)"
   ]
  },
  {
   "cell_type": "code",
   "execution_count": null,
   "id": "7bb77051",
   "metadata": {},
   "outputs": [],
   "source": [
    "gg=ml.transform(y_test)"
   ]
  },
  {
   "cell_type": "code",
   "execution_count": null,
   "id": "640586a4",
   "metadata": {},
   "outputs": [],
   "source": [
    "# Dataframe\n",
    "y_train=pd.DataFrame(data=ff,columns=ml.classes_)\n",
    "y_test=pd.DataFrame(data=gg,columns=ml.classes_)"
   ]
  },
  {
   "cell_type": "code",
   "execution_count": null,
   "id": "cdef95ed",
   "metadata": {},
   "outputs": [],
   "source": [
    "from sklearn.multiclass import OneVsRestClassifier\n",
    "from sklearn.linear_model import LogisticRegression\n",
    "\n",
    "clf=LogisticRegression(solver='lbfgs')\n",
    "clf=OneVsRestClassifier(clf)"
   ]
  },
  {
   "cell_type": "code",
   "execution_count": null,
   "id": "db0a0142",
   "metadata": {},
   "outputs": [],
   "source": [
    "y_test.shape"
   ]
  },
  {
   "cell_type": "code",
   "execution_count": null,
   "id": "39bd3804",
   "metadata": {
    "scrolled": true
   },
   "outputs": [],
   "source": [
    "clf.fit(x_train_dtm,y_train)"
   ]
  },
  {
   "cell_type": "code",
   "execution_count": null,
   "id": "14bb9a66",
   "metadata": {},
   "outputs": [],
   "source": [
    "# Predict\n",
    "y_pred=clf.predict(x_test_dtm)"
   ]
  },
  {
   "cell_type": "code",
   "execution_count": null,
   "id": "a43dbb66",
   "metadata": {},
   "outputs": [],
   "source": [
    "# Inverse Matrix\n",
    "ml.inverse_transform(y_pred)[1]"
   ]
  },
  {
   "cell_type": "code",
   "execution_count": null,
   "id": "67ab23ac",
   "metadata": {},
   "outputs": [],
   "source": [
    "from sklearn.metrics import confusion_matrix,classification_report,jaccard_score,accuracy_score"
   ]
  },
  {
   "cell_type": "code",
   "execution_count": null,
   "id": "66ff880f",
   "metadata": {},
   "outputs": [],
   "source": [
    "# Accuracy Score\n",
    "accuracy_score(y_test,y_pred)"
   ]
  },
  {
   "cell_type": "code",
   "execution_count": null,
   "id": "c08fd97e",
   "metadata": {},
   "outputs": [],
   "source": [
    "# Jaccard score\n",
    "avg=['micro', 'macro', 'samples', 'weighted']\n",
    "for i in avg:\n",
    "    score=jaccard_score(y_test,y_pred,average='samples')\n",
    "    print(f'score for {i}=',score)"
   ]
  },
  {
   "cell_type": "code",
   "execution_count": null,
   "id": "751e7c06",
   "metadata": {
    "scrolled": true
   },
   "outputs": [],
   "source": [
    "# Classification report\n",
    "print(classification_report(y_test,y_pred))"
   ]
  },
  {
   "cell_type": "code",
   "execution_count": null,
   "id": "745e875e",
   "metadata": {},
   "outputs": [],
   "source": [
    "from textblob import TextBlob"
   ]
  },
  {
   "cell_type": "code",
   "execution_count": null,
   "id": "1ab59fb6",
   "metadata": {},
   "outputs": [],
   "source": [
    "X"
   ]
  },
  {
   "cell_type": "code",
   "execution_count": null,
   "id": "5919cf40",
   "metadata": {},
   "outputs": [],
   "source": [
    "# Sentiment analysis\n",
    "list2=[]\n",
    "for i in df['TEXT']:\n",
    "    sent=TextBlob(i)\n",
    "    list2.append(sent.sentiment.polarity)"
   ]
  },
  {
   "cell_type": "code",
   "execution_count": null,
   "id": "e506bf96",
   "metadata": {
    "scrolled": true
   },
   "outputs": [],
   "source": [
    "df['Sentiment']=list2"
   ]
  },
  {
   "cell_type": "code",
   "execution_count": null,
   "id": "e7b17d6e",
   "metadata": {},
   "outputs": [],
   "source": [
    "df.head()"
   ]
  }
 ],
 "metadata": {
  "kernelspec": {
   "display_name": "Python 3 (ipykernel)",
   "language": "python",
   "name": "python3"
  },
  "language_info": {
   "codemirror_mode": {
    "name": "ipython",
    "version": 3
   },
   "file_extension": ".py",
   "mimetype": "text/x-python",
   "name": "python",
   "nbconvert_exporter": "python",
   "pygments_lexer": "ipython3",
   "version": "3.9.7"
  }
 },
 "nbformat": 4,
 "nbformat_minor": 5
}
